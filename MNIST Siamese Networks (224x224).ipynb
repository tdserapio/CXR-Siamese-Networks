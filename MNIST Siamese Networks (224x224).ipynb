{
  "cells": [
    {
      "cell_type": "markdown",
      "metadata": {
        "id": "7WCo2VuBz_BF"
      },
      "source": [
        "## Installations and Dependencies"
      ]
    },
    {
      "cell_type": "code",
      "execution_count": null,
      "metadata": {
        "id": "xOtMA76kyZbx"
      },
      "outputs": [],
      "source": [
        "# Installations\n",
        "!pip install transformers\n",
        "!pip install torchmetrics\n",
        "!pip install torchxrayvision\n",
        "!pip install pytorch-lightning\n",
        "!pip install scikit-plot\n",
        "!pip install idx2numpy\n",
        "!pip install python-mnist"
      ]
    },
    {
      "cell_type": "code",
      "execution_count": null,
      "metadata": {
        "id": "cxJ-WQpSO9J0"
      },
      "outputs": [],
      "source": [
        "# File Management\n",
        "from google.colab import drive\n",
        "import pandas as pd\n",
        "import matplotlib.pyplot as plt\n",
        "import gzip\n",
        "import idx2numpy\n",
        "from PIL import Image\n",
        "from mnist import MNIST\n",
        "\n",
        "# Utilities\n",
        "from __future__ import print_function\n",
        "import argparse, random, copy\n",
        "import numpy as np\n",
        "import tqdm\n",
        "\n",
        "# Torch imports\n",
        "import torch\n",
        "from torch import nn\n",
        "import torch.nn.functional as F\n",
        "import torch.optim as optim\n",
        "from torch.utils.data import Dataset, DataLoader\n",
        "\n",
        "import pytorch_lightning as pl\n",
        "\n",
        "import torchvision\n",
        "from torchvision import datasets\n",
        "from torchvision import transforms as T\n",
        "from torch.optim.lr_scheduler import StepLR\n",
        "\n",
        "# Dataset\n",
        "import torchxrayvision as xrv\n",
        "from mnist import MNIST\n",
        "\n",
        "# SKLearn\n",
        "import sklearn\n",
        "import scikitplot as skplt\n",
        "from sklearn.model_selection import train_test_split\n",
        "\n",
        "# Premade Transformers\n",
        "from transformers import AutoModel"
      ]
    },
    {
      "cell_type": "markdown",
      "metadata": {
        "id": "ij_V5uKR0DGj"
      },
      "source": [
        "## Preprocessing"
      ]
    },
    {
      "cell_type": "code",
      "execution_count": null,
      "metadata": {
        "id": "5ZYuuDKmHKZ2"
      },
      "outputs": [],
      "source": [
        "# Configure to Google Drive\n",
        "drive.mount('/content/gdrive')\n",
        "\n",
        "%cd \"gdrive\"\n",
        "%cd \"MyDrive\"\n",
        "%cd \"RESEARCH - Radiological Report Generation (Troy)\"\n",
        "%cd \"similarity\"\n",
        "%cd \"data\"\n",
        "%cd \"MNIST\"\n",
        "%cd \"mnist\"\n",
        "\n",
        "%ls"
      ]
    },
    {
      "cell_type": "markdown",
      "metadata": {
        "id": "wvjEWWK6DBFf"
      },
      "source": [
        "### Use MNIST Dataset"
      ]
    },
    {
      "cell_type": "code",
      "execution_count": null,
      "metadata": {
        "id": "FEPhb10KCTVq"
      },
      "outputs": [],
      "source": [
        "# Load MNIST data from directory (downloaded from https://yann.lecun.com/)\n",
        "mndata = MNIST('.')\n",
        "images, labels = mndata.load_training()\n",
        "\n",
        "# Convert from 1D-array to grayscale 224x224 to 2D-array\n",
        "for img in tqdm.tqdm(range(len(images))):\n",
        "  old_img = images[img]\n",
        "  new_img = []\n",
        "  collective_k = 0\n",
        "\n",
        "  for i in range(28):\n",
        "    new_img.append([])\n",
        "    for j in range(28):\n",
        "      oi = old_img[collective_k]\n",
        "      new_img[-1].append(oi)\n",
        "      collective_k += 1\n",
        "\n",
        "  new_img = np.asarray(new_img).astype(np.uint8)\n",
        "  new_img = Image.fromarray(new_img, 'L')\n",
        "  new_img = new_img.resize((224, 224), Image.BILINEAR)\n",
        "  images[img] = np.array(new_img)"
      ]
    },
    {
      "cell_type": "code",
      "source": [
        "# Making sure that the images actually loaded...\n",
        "ind = random.randint(0, len(images)-1)\n",
        "pix = images[ind]\n",
        "label = labels[ind]\n",
        "print(f\"Label: {label}\")\n",
        "plt.imshow(pix, cmap='gray')"
      ],
      "metadata": {
        "id": "3BifgXiiEH86"
      },
      "execution_count": null,
      "outputs": []
    },
    {
      "cell_type": "code",
      "source": [
        "# Filter out ones from non-ones and store them neatly in the array\n",
        "ones = []\n",
        "not_ones = []\n",
        "for ind, item in enumerate(images):\n",
        "  if labels[ind] == 1:\n",
        "    ones.append((ind, item))\n",
        "  else:\n",
        "    not_ones.append((ind, item))\n",
        "\n",
        "random.shuffle(ones)\n",
        "random.shuffle(not_ones)\n",
        "\n",
        "# Add them to a dataset array\n",
        "dataset_imgs = []\n",
        "prevpkl = dict()\n",
        "currentpkl = dict()\n",
        "for i in range(1, len(ones)):\n",
        "  prevpkl[ones[i][0]] = ones[i][1]\n",
        "  currentpkl[ones[i-1][0]] = ones[i-1][1]\n",
        "  dataset_imgs.append({\"comparison\": 0, \"before\": ones[i][1], \"after\": ones[i-1][1]})\n",
        "\n",
        "for i in range(0, len(ones)):\n",
        "  prevpkl[ones[i][0]] = ones[i][1]\n",
        "  currentpkl[not_ones[i][0]] = not_ones[i][1]\n",
        "  dataset_imgs.append({\"comparison\": 1, \"before\": ones[i][1], \"after\": not_ones[i][1]})\n",
        "\n",
        "# Just name it csv_df and shuffle\n",
        "csv_df = dataset_imgs\n",
        "random.shuffle(csv_df)"
      ],
      "metadata": {
        "id": "voNTJMl8cQF6"
      },
      "execution_count": null,
      "outputs": []
    },
    {
      "cell_type": "markdown",
      "metadata": {
        "id": "E_fqR8lF0H-G"
      },
      "source": [
        "## Base Architecture"
      ]
    },
    {
      "cell_type": "code",
      "execution_count": null,
      "metadata": {
        "id": "O62LX4BGWqHU"
      },
      "outputs": [],
      "source": [
        "# Configurations for Siamese Network\n",
        "config = {\n",
        "    \"d_model\": 512,\n",
        "    \"dropout\": 0.2,\n",
        "    \"num_classes\": 2,\n",
        "    \"lr\": 1e-3\n",
        "}\n",
        "\n",
        "# Siamese Network Architecture\n",
        "class SiameseNetwork(nn.Module):\n",
        "    def __init__(self):\n",
        "        \"\"\"\n",
        "        The siamese network architecture makes use of two parallel neural\n",
        "        networks that learn to, in this case, be able to successfully\n",
        "        encode and distinguish between two images.\n",
        "        \"\"\"\n",
        "        super(SiameseNetwork, self).__init__()\n",
        "\n",
        "        # 101-elastic is trained on PadChest, NIH, CheXpert, and MIMIC datasets\n",
        "        self.cnn1 = xrv.autoencoders.ResNetAE(weights=\"101-elastic\")\n",
        "        self.nclasses = config[\"num_classes\"]\n",
        "\n",
        "        outdim = 512 * 3 * 3 * 2\n",
        "\n",
        "        for param in self.cnn1.parameters():\n",
        "            param.requires_grad = False\n",
        "\n",
        "        self.fc = nn.Linear(outdim, config[\"d_model\"])\n",
        "        self.dropout = nn.Dropout(config[\"dropout\"], inplace=False)\n",
        "        self.fc_final = nn.Linear(config[\"d_model\"], config[\"num_classes\"])\n",
        "        self.learning_rate = config[\"lr\"]\n",
        "\n",
        "    def forward_once(self, x):\n",
        "        output = self.cnn1(x)\n",
        "        output = output[\"z\"].view(-1, 512*3*3)\n",
        "        return output\n",
        "\n",
        "    def forward(self, input1, input2):\n",
        "        # Parallel networks in action\n",
        "        prev_image_features = self.forward_once(input1)\n",
        "        curr_image_features = self.forward_once(input2)\n",
        "\n",
        "        # Combine the features, and generate the output\n",
        "        image_features = torch.cat((prev_image_features, curr_image_features), 1)\n",
        "        image_features = F.relu(self.fc(image_features))\n",
        "        image_features = self.dropout(image_features)\n",
        "        classifier_output = self.fc_final(image_features)\n",
        "\n",
        "        return classifier_output\n",
        "\n",
        "class SiameseDataset(Dataset):\n",
        "    def __init__(self, data, prev_pkl, current_pkl):\n",
        "        super(SiameseDataset, self).__init__()\n",
        "        \"\"\"\n",
        "        The SiameseDataset object stores the data into something neat and accessible.\n",
        "        \"\"\"\n",
        "        self.data = data\n",
        "        self.prev_pkl = prev_pkl\n",
        "        self.current_pkl = current_pkl\n",
        "        self.greyscale = torchvision.transforms.Grayscale(1)\n",
        "\n",
        "    def __len__(self):\n",
        "        return len(self.data)\n",
        "\n",
        "    def __getitem__(self, index):\n",
        "        image_1 = self.data[index][\"before\"]\n",
        "        image_1 = image_1[None, :]\n",
        "        image_2 = self.data[index][\"after\"]\n",
        "        image_2 = image_2[None, :]\n",
        "\n",
        "        return {\"prev_img\": image_1, \"curr_img\": image_2, \"change\": self.data[index][\"comparison\"]}"
      ]
    },
    {
      "cell_type": "markdown",
      "metadata": {
        "id": "x78Wi6Em8Xxm"
      },
      "source": [
        "### Just to test if nothing broke (code-wise)..."
      ]
    },
    {
      "cell_type": "code",
      "execution_count": null,
      "metadata": {
        "colab": {
          "base_uri": "https://localhost:8080/"
        },
        "id": "5-I73uwFhwfu",
        "outputId": "dcc4f787-3438-4f68-df6d-4947b079a841"
      },
      "outputs": [
        {
          "output_type": "stream",
          "name": "stdout",
          "text": [
            "Downloading weights...\n",
            "If this fails you can run `wget https://github.com/mlmed/torchxrayvision/releases/download/v1/nihpcrsnamimic_ch-resnet101-2-ae-test2-elastic-e250.pt -O /root/.torchxrayvision/models_data/nihpcrsnamimic_ch-resnet101-2-ae-test2-elastic-e250.pt`\n",
            "[██████████████████████████████████████████████████]\n"
          ]
        },
        {
          "output_type": "execute_result",
          "data": {
            "text/plain": [
              "tensor([[ 0.1033,  0.0691],\n",
              "        [ 0.8053,  0.2789],\n",
              "        [ 0.4051, -0.2872],\n",
              "        [-0.7182,  0.0312]], device='cuda:0', grad_fn=<AddmmBackward0>)"
            ]
          },
          "metadata": {},
          "execution_count": 8
        }
      ],
      "source": [
        "# Load the dataset and dataloaders\n",
        "\n",
        "device = 'cuda' if torch.cuda.is_available() else 'cpu'\n",
        "\n",
        "train_df, test_df = train_test_split(csv_df, shuffle=True)\n",
        "train_ds = SiameseDataset(train_df, prevpkl, currentpkl)\n",
        "test_ds = SiameseDataset(test_df, prevpkl, currentpkl)\n",
        "train_data_loader = DataLoader(train_ds, batch_size=4, shuffle=True)\n",
        "test_data_loader = DataLoader(test_ds, batch_size=4, shuffle=True)\n",
        "\n",
        "# Try out one batch and see what the model spits out\n",
        "\n",
        "batch = next(iter(train_data_loader))\n",
        "batch['prev_img'] = batch['prev_img'].float().to(device)\n",
        "batch['curr_img'] = batch['curr_img'].float().to(device)\n",
        "batch['change'] = batch['change'].to(device)\n",
        "\n",
        "model = SiameseNetwork().to(device)\n",
        "model(batch[\"prev_img\"], batch[\"curr_img\"])"
      ]
    },
    {
      "cell_type": "markdown",
      "metadata": {
        "id": "wEcOublK8ctY"
      },
      "source": [
        "## Training and Testing"
      ]
    },
    {
      "cell_type": "code",
      "execution_count": null,
      "metadata": {
        "id": "glssO6EwSzsX"
      },
      "outputs": [],
      "source": [
        "def train(model, device, train_loader, optimizer, epoch):\n",
        "    \"\"\"\n",
        "    This uses CrossEntropyLoss. Although BinaryEntropyLoss function could\n",
        "    also be used, the documentation preferred using CrossEntropyLoss.\n",
        "\n",
        "    Other than that, this is essentially training the model.\n",
        "    \"\"\"\n",
        "    model.train()\n",
        "    criterion = nn.CrossEntropyLoss()\n",
        "\n",
        "    for batch_idx, batch in enumerate(tqdm.tqdm(train_loader)):\n",
        "        targets = batch[\"change\"].type(torch.LongTensor)\n",
        "\n",
        "        images_1 = batch[\"prev_img\"].float().to(device)\n",
        "        images_2 = batch[\"curr_img\"].float().to(device)\n",
        "        targets = batch[\"change\"].to(device)\n",
        "\n",
        "        optimizer.zero_grad()\n",
        "        outputs = model(images_1, images_2)\n",
        "        loss = criterion(outputs, targets)\n",
        "\n",
        "        loss.backward()\n",
        "        optimizer.step()\n",
        "\n",
        "        if batch_idx % 100 == 0:\n",
        "            print('Train Epoch: {} [{}/{} ({:.0f}%)]\\tLoss: {:.6f}'.format(\n",
        "                epoch, batch_idx * len(images_1), len(train_loader.dataset),\n",
        "                100. * batch_idx / len(train_loader), loss.item()))\n",
        "\n",
        "\n",
        "def test(model, device, test_loader):\n",
        "    \"\"\"\n",
        "    This function tells the accuracy and loss of the model.\n",
        "    \"\"\"\n",
        "    model.eval()\n",
        "    test_loss = 0\n",
        "    correct = 0\n",
        "\n",
        "    criterion = nn.CrossEntropyLoss()\n",
        "\n",
        "    with torch.no_grad():\n",
        "        for batch in test_loader:\n",
        "            targets = batch[\"change\"].type(torch.LongTensor)\n",
        "            images_1 = batch[\"prev_img\"].float().to(device)\n",
        "            images_2 = batch[\"curr_img\"].float().to(device)\n",
        "            targets = batch[\"change\"].to(device)\n",
        "\n",
        "            outputs = model(images_1, images_2)\n",
        "            test_loss += criterion(outputs, targets).sum().item()\n",
        "            pred = outputs.argmax(1)\n",
        "            correct += pred.eq(targets).sum().item()\n",
        "\n",
        "    test_loss /= len(test_loader.dataset)\n",
        "\n",
        "    print('\\nTest set: Average loss: {:.4f}, Accuracy: {}/{} ({:.0f}%)\\n'.format(\n",
        "        test_loss, correct, len(test_loader.dataset),\n",
        "        100. * correct / len(test_loader.dataset)))\n",
        "\n",
        "\"\"\"\n",
        "------------- RUN THE TRAIN-TEST LOOP -------------\n",
        "\"\"\"\n",
        "\n",
        "device = 'cuda' if torch.cuda.is_available() else 'cpu'\n",
        "\n",
        "train_df, test_df = train_test_split(csv_df, shuffle=True)\n",
        "train_ds = SiameseDataset(train_df, prevpkl, currentpkl)\n",
        "test_ds = SiameseDataset(test_df, prevpkl, currentpkl)\n",
        "train_data_loader = DataLoader(train_ds, batch_size=4, shuffle=True)\n",
        "test_data_loader = DataLoader(test_ds, batch_size=4, shuffle=True)\n",
        "\n",
        "model = SiameseNetwork().to(device)\n",
        "optimizer = optim.SGD(model.parameters(), lr=config[\"lr\"])\n",
        "\n",
        "epochs = 100\n",
        "for epoch in range(1, epochs + 1):\n",
        "    train(model, device, train_data_loader, optimizer, epoch)\n",
        "    test(model, device, test_data_loader)"
      ]
    },
    {
      "cell_type": "markdown",
      "metadata": {
        "id": "oDnPlrjP0SEF"
      },
      "source": [
        "## Prediction Generation"
      ]
    },
    {
      "cell_type": "code",
      "execution_count": null,
      "metadata": {
        "id": "KQH211ALxFEb"
      },
      "outputs": [],
      "source": [
        "def predict(prev_img, curr_img, convert=True):\n",
        "    \"\"\"\n",
        "    Translates to make model prediction readable\n",
        "    \"\"\"\n",
        "    prv_img = prev_img.unsqueeze(0).to(device)\n",
        "    crr_img = curr_img.unsqueeze(0).to(device)\n",
        "    m = torch.nn.Sigmoid()\n",
        "    pred = m(model(prv_img, crr_img))\n",
        "\n",
        "    if convert:\n",
        "      pred = pred.argmax(1)\n",
        "      if pred == 0:\n",
        "        return \"no change\"\n",
        "      else:\n",
        "        return \"changed\"\n",
        "\n",
        "    return pred"
      ]
    },
    {
      "cell_type": "code",
      "execution_count": null,
      "metadata": {
        "id": "E9736ssdABYt"
      },
      "outputs": [],
      "source": [
        "\"\"\"\n",
        "Note: 101-elastic weights only accept grayscale images\n",
        "\"\"\"\n",
        "grayscale = torchvision.transforms.Grayscale(1)"
      ]
    },
    {
      "cell_type": "code",
      "execution_count": null,
      "metadata": {
        "colab": {
          "base_uri": "https://localhost:8080/",
          "height": 452
        },
        "id": "CpUTWhMmmMb2",
        "outputId": "e03d85a0-c6fe-453c-975f-833907ca2310"
      },
      "outputs": [
        {
          "output_type": "stream",
          "name": "stdout",
          "text": [
            "Reference: 0 (not changed)\n",
            "Generated: no change\n"
          ]
        },
        {
          "output_type": "display_data",
          "data": {
            "text/plain": [
              "<Figure size 1000x500 with 2 Axes>"
            ],
            "image/png": "[encoded data removed]"
          },
          "metadata": {}
        }
      ],
      "source": [
        "\"\"\"\n",
        "This block of code gives out sample two images, and tests out how the model reacts\n",
        "\"\"\"\n",
        "\n",
        "row = test_df[random.randint(0, len(test_df)-1)]\n",
        "prev_img = row[\"before\"]\n",
        "prev_img = prev_img[None, :]\n",
        "prev_img = torch.from_numpy(prev_img)\n",
        "\n",
        "curr_img = row[\"after\"]\n",
        "curr_img = curr_img[None, :]\n",
        "curr_img = torch.from_numpy(curr_img)\n",
        "\n",
        "fig, ax = plt.subplots(nrows=1, ncols=2, figsize=(10, 5))\n",
        "ax[0].imshow(torch.permute(prev_img, (1, 2, 0)), cmap='gray')\n",
        "ax[1].imshow(torch.permute(curr_img, (1, 2, 0)), cmap='gray')\n",
        "\n",
        "progression_dict = {1: \"changed\", 0: \"not changed\"}\n",
        "\n",
        "pe = row['comparison']\n",
        "print(f\"Reference: {pe} ({progression_dict[pe]})\")\n",
        "print(f\"Generated: {predict(prev_img.float(), curr_img.float())}\")"
      ]
    }
  ],
  "metadata": {
    "accelerator": "GPU",
    "colab": {
      "collapsed_sections": [
        "7WCo2VuBz_BF",
        "wvjEWWK6DBFf"
      ],
      "provenance": []
    },
    "kernelspec": {
      "display_name": "Python 3",
      "name": "python3"
    },
    "language_info": {
      "name": "python"
    }
  },
  "nbformat": 4,
  "nbformat_minor": 0
}
